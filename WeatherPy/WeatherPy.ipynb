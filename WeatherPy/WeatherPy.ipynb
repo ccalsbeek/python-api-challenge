{
 "cells": [
  {
   "cell_type": "markdown",
   "metadata": {},
   "source": [
    "# WeatherPy\n",
    "----\n",
    "\n",
    "#### Note\n",
    "* Instructions have been included for each segment. You do not have to follow them exactly, but they are included to help you think through the steps."
   ]
  },
  {
   "cell_type": "code",
   "execution_count": 2,
   "metadata": {
    "scrolled": true
   },
   "outputs": [],
   "source": [
    "# Dependencies and Setup\n",
    "import matplotlib.pyplot as plt\n",
    "import pandas as pd\n",
    "import numpy as np\n",
    "import requests\n",
    "import time\n",
    "from scipy.stats import linregress\n",
    "\n",
    "# Import API key\n",
    "from api_keys import weather_api_key\n",
    "\n",
    "# Incorporated citipy to determine city based on latitude and longitude\n",
    "from citipy import citipy\n",
    "\n",
    "# Output File (CSV)\n",
    "output_data_file = \"output_data/cities.csv\"\n",
    "\n",
    "# Range of latitudes and longitudes\n",
    "lat_range = (-90, 90)\n",
    "lng_range = (-180, 180)"
   ]
  },
  {
   "cell_type": "markdown",
   "metadata": {},
   "source": [
    "## Generate Cities List"
   ]
  },
  {
   "cell_type": "code",
   "execution_count": 2,
   "metadata": {},
   "outputs": [
    {
     "data": {
      "text/plain": [
       "613"
      ]
     },
     "execution_count": 2,
     "metadata": {},
     "output_type": "execute_result"
    }
   ],
   "source": [
    "# List for holding lat_lngs and cities\n",
    "lat_lngs = []\n",
    "cities = []\n",
    "\n",
    "# Create a set of random lat and lng combinations\n",
    "lats = np.random.uniform(lat_range[0], lat_range[1], size=1500)\n",
    "lngs = np.random.uniform(lng_range[0], lng_range[1], size=1500)\n",
    "lat_lngs = zip(lats, lngs)\n",
    "\n",
    "# Identify nearest city for each lat, lng combination\n",
    "for lat_lng in lat_lngs:\n",
    "    city = citipy.nearest_city(lat_lng[0], lat_lng[1]).city_name\n",
    "    \n",
    "    # If the city is unique, then add it to a our cities list\n",
    "    if city not in cities:\n",
    "        cities.append(city)\n",
    "\n",
    "# Print the city count to confirm sufficient count\n",
    "len(cities)"
   ]
  },
  {
   "cell_type": "markdown",
   "metadata": {},
   "source": [
    "### Perform API Calls\n",
    "* Perform a weather check on each city using a series of successive API calls.\n",
    "* Include a print log of each city as it'sbeing processed (with the city number and city name).\n"
   ]
  },
  {
   "cell_type": "code",
   "execution_count": 3,
   "metadata": {},
   "outputs": [
    {
     "name": "stdout",
     "output_type": "stream",
     "text": [
      "Beginning Call...\n",
      "...........................\n",
      "Processing Record 2 of Set 1 | Punta Arenas\n",
      "Processing Record 3 of Set 1 | Los Llanos de Aridane\n",
      "No data...\n",
      "Processing Record 4 of Set 1 | Lebu\n",
      "Processing Record 5 of Set 1 | Bluff\n",
      "Processing Record 6 of Set 1 | Ushuaia\n",
      "Processing Record 7 of Set 1 | Rikitea\n",
      "Processing Record 8 of Set 1 | Port Lincoln\n",
      "Processing Record 9 of Set 1 | Balakovo\n",
      "Processing Record 10 of Set 1 | Teguise\n",
      "Processing Record 11 of Set 1 | Avarua\n",
      "No data...\n",
      "Processing Record 12 of Set 1 | Vilcún\n",
      "Processing Record 13 of Set 1 | Port Elizabeth\n",
      "Processing Record 14 of Set 1 | New Norfolk\n",
      "Processing Record 15 of Set 1 | Dikson\n",
      "Processing Record 16 of Set 1 | Ambon City\n",
      "Processing Record 17 of Set 1 | Babynino\n",
      "No data...\n",
      "Processing Record 18 of Set 1 | Kosai\n",
      "Processing Record 19 of Set 1 | Port Alfred\n",
      "Processing Record 20 of Set 1 | Kaitangata\n",
      "Processing Record 21 of Set 1 | Tomatlán\n",
      "Processing Record 22 of Set 1 | Bambous Virieux\n",
      "Processing Record 23 of Set 1 | Atuona\n",
      "Processing Record 24 of Set 1 | Kalabo\n",
      "Processing Record 25 of Set 1 | Lavrentiya\n",
      "Processing Record 26 of Set 1 | Najrān\n",
      "Processing Record 27 of Set 1 | Bilibino\n",
      "Processing Record 28 of Set 1 | Lichuan\n",
      "Processing Record 29 of Set 1 | Shaoyang\n",
      "Processing Record 30 of Set 1 | Berlevåg\n",
      "Processing Record 31 of Set 1 | Jasper\n",
      "Processing Record 32 of Set 1 | Hobart\n",
      "Processing Record 33 of Set 1 | Laas\n",
      "No data...\n",
      "Processing Record 34 of Set 1 | Tuktoyaktuk\n",
      "Processing Record 35 of Set 1 | Murray Bridge\n",
      "Processing Record 36 of Set 1 | Katsuura\n",
      "Processing Record 37 of Set 1 | Los Andes\n",
      "Processing Record 38 of Set 1 | Tezu\n",
      "Processing Record 39 of Set 1 | Yellowknife\n",
      "Processing Record 40 of Set 1 | Doha\n",
      "Processing Record 41 of Set 1 | Lewistown\n",
      "Processing Record 42 of Set 1 | Sinegor'ye\n",
      "Processing Record 43 of Set 1 | Forest Hills\n",
      "Processing Record 44 of Set 1 | Butaritari\n",
      "Processing Record 45 of Set 1 | Nome\n",
      "Processing Record 46 of Set 1 | Brawley\n",
      "Processing Record 47 of Set 1 | Albany\n",
      "Processing Record 48 of Set 1 | Hervey Bay\n",
      "Processing Record 49 of Set 1 | Emerald\n",
      "Processing Record 50 of Set 1 | Mataura\n",
      "Processing Record 1 of Set 2 | Busselton\n",
      "Processing Record 2 of Set 2 | Chifeng\n",
      "Processing Record 3 of Set 2 | Kapaa\n",
      "Processing Record 4 of Set 2 | Cidreira\n",
      "Processing Record 5 of Set 2 | Jamestown\n",
      "No data...\n",
      "Processing Record 6 of Set 2 | Cherskiy\n",
      "Processing Record 7 of Set 2 | Calama\n",
      "Processing Record 8 of Set 2 | Puerto Ayora\n",
      "No data...\n",
      "Processing Record 9 of Set 2 | Thompson\n",
      "Processing Record 10 of Set 2 | Christchurch\n",
      "Processing Record 11 of Set 2 | Prado\n",
      "Processing Record 12 of Set 2 | Cayenne\n",
      "Processing Record 13 of Set 2 | Tuatapere\n",
      "No data...\n",
      "Processing Record 14 of Set 2 | Vaini\n",
      "Processing Record 15 of Set 2 | Lac du Bonnet\n",
      "Processing Record 16 of Set 2 | Tateyama\n",
      "No data...\n",
      "Processing Record 17 of Set 2 | Qaanaaq\n",
      "Processing Record 18 of Set 2 | Zhigansk\n",
      "No data...\n",
      "Processing Record 19 of Set 2 | Truth or Consequences\n",
      "Processing Record 20 of Set 2 | Ilulissat\n",
      "Processing Record 21 of Set 2 | Hilo\n",
      "No data...\n",
      "Processing Record 22 of Set 2 | George Town\n",
      "Processing Record 23 of Set 2 | Faanui\n",
      "Processing Record 24 of Set 2 | Mount Isa\n",
      "Processing Record 25 of Set 2 | Port Montt\n",
      "Processing Record 26 of Set 2 | Murgab\n",
      "Processing Record 27 of Set 2 | Mossamedes\n",
      "Processing Record 28 of Set 2 | Puerto Baquerizo Moreno\n",
      "Processing Record 29 of Set 2 | Sirsa\n",
      "Processing Record 30 of Set 2 | Tarko-Sale\n",
      "Processing Record 31 of Set 2 | Calabozo\n",
      "No data...\n",
      "No data...\n",
      "Processing Record 32 of Set 2 | Bredasdorp\n",
      "No data...\n",
      "Processing Record 33 of Set 2 | Lubango\n",
      "Processing Record 34 of Set 2 | Davila\n",
      "Processing Record 35 of Set 2 | Carnarvon\n",
      "No data...\n",
      "Processing Record 36 of Set 2 | Kavieng\n",
      "Processing Record 37 of Set 2 | Kapra\n",
      "Processing Record 38 of Set 2 | Santa Cruz de la Sierra\n",
      "Processing Record 39 of Set 2 | Seoul\n",
      "Processing Record 40 of Set 2 | Mocuba\n",
      "Processing Record 41 of Set 2 | Totoró\n",
      "Processing Record 42 of Set 2 | Leningradskiy\n",
      "Processing Record 43 of Set 2 | Hithadhoo\n",
      "Processing Record 44 of Set 2 | Bengkulu\n",
      "Processing Record 45 of Set 2 | Elizabeth City\n",
      "Processing Record 46 of Set 2 | Yumen\n",
      "No data...\n",
      "Processing Record 47 of Set 2 | Zhalantun\n",
      "Processing Record 48 of Set 2 | Bowen\n",
      "Processing Record 49 of Set 2 | Esperance\n",
      "Processing Record 50 of Set 2 | Mar del Plata\n",
      "Processing Record 1 of Set 3 | Sheffield\n",
      "Processing Record 2 of Set 3 | Hamilton\n",
      "Processing Record 3 of Set 3 | Beloha\n",
      "Processing Record 4 of Set 3 | Bethel\n",
      "Processing Record 5 of Set 3 | Bonthe\n",
      "Processing Record 6 of Set 3 | Nikolskoye\n",
      "Processing Record 7 of Set 3 | Saint-Augustin\n",
      "No data...\n",
      "Processing Record 8 of Set 3 | Srīvardhan\n",
      "Processing Record 9 of Set 3 | Batagay\n",
      "Processing Record 10 of Set 3 | Zhigalovo\n",
      "Processing Record 11 of Set 3 | Santa Fe\n",
      "No data...\n",
      "Processing Record 12 of Set 3 | Andenes\n",
      "Processing Record 13 of Set 3 | Hermanus\n",
      "Processing Record 14 of Set 3 | Mandeville\n",
      "Processing Record 15 of Set 3 | Cape Town\n",
      "Processing Record 16 of Set 3 | Saskylakh\n",
      "Processing Record 17 of Set 3 | Zaozyornoye\n",
      "Processing Record 18 of Set 3 | Eatonton\n",
      "Processing Record 19 of Set 3 | Ucluelet\n",
      "Processing Record 20 of Set 3 | Padang\n",
      "Processing Record 21 of Set 3 | Kutum\n",
      "Processing Record 22 of Set 3 | Moree\n",
      "Processing Record 23 of Set 3 | Petrozavodsk\n",
      "Processing Record 24 of Set 3 | Belaya Gora\n",
      "Processing Record 25 of Set 3 | Alzamay\n",
      "Processing Record 26 of Set 3 | Coyhaique\n",
      "Processing Record 27 of Set 3 | Ponta Delgada\n",
      "Processing Record 28 of Set 3 | Arraial do Cabo\n",
      "Processing Record 29 of Set 3 | Ponta do Sol\n",
      "Processing Record 30 of Set 3 | Chui\n",
      "Processing Record 31 of Set 3 | Yambio\n",
      "Processing Record 32 of Set 3 | Maţāy\n",
      "Processing Record 33 of Set 3 | Zhezkazgan\n",
      "Processing Record 34 of Set 3 | Tiksi\n",
      "Processing Record 35 of Set 3 | Hong Kong\n",
      "Processing Record 36 of Set 3 | Zaysan\n",
      "Processing Record 37 of Set 3 | Makakilo City\n",
      "Processing Record 38 of Set 3 | Bathsheba\n",
      "Processing Record 39 of Set 3 | Port Blair\n",
      "Processing Record 40 of Set 3 | Ransang\n",
      "Processing Record 41 of Set 3 | Vanavara\n",
      "Processing Record 42 of Set 3 | Kysyl-Syr\n",
      "Processing Record 43 of Set 3 | Tadine\n",
      "Processing Record 44 of Set 3 | Upernavik\n",
      "Processing Record 45 of Set 3 | Jambi City\n",
      "Processing Record 46 of Set 3 | Havre-St-Pierre\n",
      "Processing Record 47 of Set 3 | Clyde River\n",
      "Processing Record 48 of Set 3 | Broken Hill\n",
      "Processing Record 49 of Set 3 | Half Moon Bay\n",
      "Processing Record 50 of Set 3 | Chokurdakh\n",
      "Processing Record 1 of Set 4 | Tasiilaq\n",
      "Processing Record 2 of Set 4 | Quirinópolis\n",
      "Processing Record 3 of Set 4 | Acapulco de Juárez\n",
      "Processing Record 4 of Set 4 | San Vicente\n",
      "No data...\n",
      "Processing Record 5 of Set 4 | Fairfield\n",
      "Processing Record 6 of Set 4 | Kot Radha Kishan\n",
      "Processing Record 7 of Set 4 | Eyl\n",
      "No data...\n",
      "Processing Record 8 of Set 4 | Lorengau\n",
      "Processing Record 9 of Set 4 | Yulara\n",
      "Processing Record 10 of Set 4 | Longyearbyen\n",
      "Processing Record 11 of Set 4 | Idrinskoye\n",
      "No data...\n",
      "Processing Record 12 of Set 4 | Deputatsky\n",
      "Processing Record 13 of Set 4 | Basoko\n",
      "Processing Record 14 of Set 4 | Castro\n",
      "Processing Record 15 of Set 4 | Pīpri\n",
      "Processing Record 16 of Set 4 | Pacific Grove\n",
      "Processing Record 17 of Set 4 | Opichen\n",
      "Processing Record 18 of Set 4 | Natal\n",
      "Processing Record 19 of Set 4 | Kattivākkam\n",
      "Processing Record 20 of Set 4 | Port Moresby\n",
      "Processing Record 21 of Set 4 | Shache\n",
      "Processing Record 22 of Set 4 | Meulaboh\n",
      "Processing Record 23 of Set 4 | Lagoa\n",
      "Processing Record 24 of Set 4 | Saint Paul Harbor\n",
      "Processing Record 25 of Set 4 | Ballina\n",
      "Processing Record 26 of Set 4 | Airai\n",
      "Processing Record 27 of Set 4 | Tripoli\n",
      "Processing Record 28 of Set 4 | Kachug\n",
      "Processing Record 29 of Set 4 | Voh\n",
      "No data...\n",
      "Processing Record 30 of Set 4 | Verāval\n",
      "Processing Record 31 of Set 4 | Opuwo\n",
      "Processing Record 32 of Set 4 | Ahipara\n",
      "Processing Record 33 of Set 4 | Saint-Philippe\n",
      "Processing Record 34 of Set 4 | Osoyoos\n",
      "Processing Record 35 of Set 4 | Anito\n",
      "Processing Record 36 of Set 4 | Sakakah\n",
      "Processing Record 37 of Set 4 | Colquiri\n",
      "Processing Record 38 of Set 4 | Hasaki\n",
      "Processing Record 39 of Set 4 | Provideniya\n",
      "Processing Record 40 of Set 4 | Moussoro\n",
      "Processing Record 41 of Set 4 | East London\n",
      "Processing Record 42 of Set 4 | Katangli\n",
      "Processing Record 43 of Set 4 | Birjand\n"
     ]
    },
    {
     "name": "stdout",
     "output_type": "stream",
     "text": [
      "Processing Record 44 of Set 4 | Tooele\n",
      "Processing Record 45 of Set 4 | Kyaikto\n",
      "Processing Record 46 of Set 4 | Fort Smith\n",
      "Processing Record 47 of Set 4 | Talara\n",
      "Processing Record 48 of Set 4 | Paysandu\n",
      "Processing Record 49 of Set 4 | Ribeira Grande\n",
      "Processing Record 50 of Set 4 | Luena\n",
      "Processing Record 1 of Set 5 | Hofn\n",
      "No data...\n",
      "Processing Record 2 of Set 5 | Severo-Kuril'sk\n",
      "Processing Record 3 of Set 5 | Río Gallegos\n",
      "Processing Record 4 of Set 5 | Barrow\n",
      "Processing Record 5 of Set 5 | Wilkes-Barre\n",
      "Processing Record 6 of Set 5 | Gisborne\n",
      "Processing Record 7 of Set 5 | Manutuke\n",
      "Processing Record 8 of Set 5 | Tsaratanana\n",
      "Processing Record 9 of Set 5 | Aswān\n",
      "Processing Record 10 of Set 5 | Pangai\n",
      "Processing Record 11 of Set 5 | São Brás de Alportel\n",
      "Processing Record 12 of Set 5 | Iqaluit\n",
      "Processing Record 13 of Set 5 | Tilichiki\n",
      "Processing Record 14 of Set 5 | Natick\n",
      "Processing Record 15 of Set 5 | Kumul\n",
      "Processing Record 16 of Set 5 | Kwakoa\n",
      "Processing Record 17 of Set 5 | Kahului\n",
      "Processing Record 18 of Set 5 | Charters Towers\n",
      "No data...\n",
      "Processing Record 19 of Set 5 | Mapiripán\n",
      "Processing Record 20 of Set 5 | Narsaq\n",
      "Processing Record 21 of Set 5 | Witu\n",
      "Processing Record 22 of Set 5 | Santiago\n",
      "Processing Record 23 of Set 5 | Bandarbeyla\n",
      "Processing Record 24 of Set 5 | Cheyenne\n",
      "Processing Record 25 of Set 5 | Pangody\n",
      "Processing Record 26 of Set 5 | Vila Franca do Campo\n",
      "Processing Record 27 of Set 5 | Galesong\n",
      "Processing Record 28 of Set 5 | Mahébourg\n",
      "Processing Record 29 of Set 5 | Pevek\n",
      "Processing Record 30 of Set 5 | Talnakh\n",
      "Processing Record 31 of Set 5 | Vestmannaeyjar\n",
      "No data...\n",
      "Processing Record 32 of Set 5 | São Filipe\n",
      "Processing Record 33 of Set 5 | Denpasar\n",
      "Processing Record 34 of Set 5 | Carutapera\n",
      "Processing Record 35 of Set 5 | Guerrero Negro\n",
      "Processing Record 36 of Set 5 | Karachi\n",
      "Processing Record 37 of Set 5 | Kingaroy\n",
      "Processing Record 38 of Set 5 | Fort Nelson\n",
      "Processing Record 39 of Set 5 | Barra Patuca\n",
      "Processing Record 40 of Set 5 | Norman Wells\n",
      "Processing Record 41 of Set 5 | Bunia\n",
      "Processing Record 42 of Set 5 | Aban\n",
      "No data...\n",
      "Processing Record 43 of Set 5 | Sabang\n",
      "Processing Record 44 of Set 5 | Indaiatuba\n",
      "Processing Record 45 of Set 5 | Maridi\n",
      "Processing Record 46 of Set 5 | Rabaul\n",
      "Processing Record 47 of Set 5 | Bera\n",
      "Processing Record 48 of Set 5 | Broome\n",
      "Processing Record 49 of Set 5 | Houndé\n",
      "Processing Record 50 of Set 5 | Brainerd\n",
      "Processing Record 1 of Set 6 | Mesker-Yurt\n",
      "Processing Record 2 of Set 6 | Mjölby\n",
      "Processing Record 3 of Set 6 | Anadyr\n",
      "Processing Record 4 of Set 6 | Merritt Island\n",
      "Processing Record 5 of Set 6 | Muisne\n",
      "Processing Record 6 of Set 6 | Isangel\n",
      "Processing Record 7 of Set 6 | Coquimbo\n",
      "Processing Record 8 of Set 6 | Paraíso\n",
      "Processing Record 9 of Set 6 | Inírida\n",
      "Processing Record 10 of Set 6 | Suez\n",
      "Processing Record 11 of Set 6 | Burnie\n",
      "Processing Record 12 of Set 6 | Victoria Point\n",
      "Processing Record 13 of Set 6 | Asău\n",
      "Processing Record 14 of Set 6 | Sembakung\n",
      "Processing Record 15 of Set 6 | Koumac\n",
      "Processing Record 16 of Set 6 | Torbay\n",
      "Processing Record 17 of Set 6 | Pisco\n",
      "Processing Record 18 of Set 6 | Baykit\n",
      "Processing Record 19 of Set 6 | Monroe\n",
      "Processing Record 20 of Set 6 | Sisimiut\n",
      "Processing Record 21 of Set 6 | San Patricio\n",
      "Processing Record 22 of Set 6 | Kayerkan\n",
      "Processing Record 23 of Set 6 | St. Marys\n",
      "Processing Record 24 of Set 6 | Benjamin Constant\n",
      "Processing Record 25 of Set 6 | Turukhansk\n",
      "Processing Record 26 of Set 6 | Cabedelo\n",
      "Processing Record 27 of Set 6 | Klaksvík\n",
      "Processing Record 28 of Set 6 | Mergen\n",
      "Processing Record 29 of Set 6 | Waipawa\n",
      "No data...\n",
      "Processing Record 30 of Set 6 | Manthani\n",
      "Processing Record 31 of Set 6 | Peniche\n",
      "Processing Record 32 of Set 6 | Ossora\n",
      "Processing Record 33 of Set 6 | Marsá Maţrūḩ\n",
      "Processing Record 34 of Set 6 | Valparaíso\n",
      "Processing Record 35 of Set 6 | Paka\n",
      "Processing Record 36 of Set 6 | Mweka\n",
      "Processing Record 37 of Set 6 | Mirny\n",
      "Processing Record 38 of Set 6 | Beira\n",
      "Processing Record 39 of Set 6 | Nishihara\n",
      "Processing Record 40 of Set 6 | Kavaratti\n",
      "Processing Record 41 of Set 6 | Menongue\n",
      "Processing Record 42 of Set 6 | Kalmunai\n",
      "No data...\n",
      "Processing Record 43 of Set 6 | Mattawa\n",
      "Processing Record 44 of Set 6 | Paeroa\n",
      "Processing Record 45 of Set 6 | Lucapa\n",
      "Processing Record 46 of Set 6 | Catuday\n",
      "No data...\n",
      "Processing Record 47 of Set 6 | Ust'-Karsk\n",
      "Processing Record 48 of Set 6 | Rocha\n",
      "Processing Record 49 of Set 6 | Fort-Shevchenko\n",
      "Processing Record 50 of Set 6 | Waingapu\n",
      "Processing Record 1 of Set 7 | Palmer\n",
      "Processing Record 2 of Set 7 | Constitución\n",
      "Processing Record 3 of Set 7 | Yar-Sale\n",
      "Processing Record 4 of Set 7 | Ancud\n",
      "Processing Record 5 of Set 7 | Tiruchchendur\n",
      "No data...\n",
      "Processing Record 6 of Set 7 | Ostrovnoy\n",
      "Processing Record 7 of Set 7 | Olenegorsk\n",
      "Processing Record 8 of Set 7 | Pinega\n",
      "Processing Record 9 of Set 7 | Correntina\n",
      "Processing Record 10 of Set 7 | Tessalit\n",
      "Processing Record 11 of Set 7 | Nara\n",
      "Processing Record 12 of Set 7 | Portland\n",
      "Processing Record 13 of Set 7 | Ngunguru\n",
      "Processing Record 14 of Set 7 | Itarema\n",
      "Processing Record 15 of Set 7 | Vardø\n",
      "Processing Record 16 of Set 7 | Sitka\n",
      "Processing Record 17 of Set 7 | Sørland\n",
      "Processing Record 18 of Set 7 | Lüderitz\n",
      "Processing Record 19 of Set 7 | Nizhniy Tsasuchey\n",
      "No data...\n",
      "Processing Record 20 of Set 7 | Codrington\n",
      "Processing Record 21 of Set 7 | Merauke\n",
      "Processing Record 22 of Set 7 | Barcelona\n",
      "No data...\n",
      "Processing Record 23 of Set 7 | Sola\n",
      "Processing Record 24 of Set 7 | Khatanga\n",
      "Processing Record 25 of Set 7 | Kondinskoye\n",
      "Processing Record 26 of Set 7 | Karla\n",
      "Processing Record 27 of Set 7 | Whithorn\n",
      "No data...\n",
      "Processing Record 28 of Set 7 | Xichang\n",
      "Processing Record 29 of Set 7 | Santa Isabel Rio Negro\n",
      "Processing Record 30 of Set 7 | Santa Rita\n",
      "No data...\n",
      "Processing Record 31 of Set 7 | Port Hardy\n",
      "Processing Record 32 of Set 7 | Ixtapa\n",
      "Processing Record 33 of Set 7 | Tres Arroyos\n",
      "Processing Record 34 of Set 7 | Egvekinot\n",
      "Processing Record 35 of Set 7 | Owando\n",
      "Processing Record 36 of Set 7 | Dingle\n",
      "Processing Record 37 of Set 7 | Cabadiangan\n",
      "Processing Record 38 of Set 7 | Lakes Entrance\n",
      "Processing Record 39 of Set 7 | Safi\n",
      "Processing Record 40 of Set 7 | Cayambe\n",
      "Processing Record 41 of Set 7 | Saint George\n",
      "Processing Record 42 of Set 7 | Lata\n",
      "Processing Record 43 of Set 7 | College\n",
      "Processing Record 44 of Set 7 | Yantzaza\n",
      "Processing Record 45 of Set 7 | Aklavik\n",
      "No data...\n",
      "Processing Record 46 of Set 7 | Ténenkou\n",
      "Processing Record 47 of Set 7 | Nikol'sk\n",
      "Processing Record 48 of Set 7 | Uşak Province\n",
      "Processing Record 49 of Set 7 | Heraclea\n",
      "Processing Record 50 of Set 7 | Sumbe\n",
      "Processing Record 1 of Set 8 | Joshīmath\n",
      "Processing Record 2 of Set 8 | Rawson\n",
      "Processing Record 3 of Set 8 | Oranjestad\n",
      "No data...\n",
      "Processing Record 4 of Set 8 | Tarauacá\n",
      "Processing Record 5 of Set 8 | Garissa\n",
      "Processing Record 6 of Set 8 | Nioro\n",
      "Processing Record 7 of Set 8 | Bull Savanna\n",
      "Processing Record 8 of Set 8 | Novo Horizonte\n",
      "Processing Record 9 of Set 8 | Usinsk\n",
      "Processing Record 10 of Set 8 | Jalu\n",
      "Processing Record 11 of Set 8 | Nerchinskiy Zavod\n",
      "Processing Record 12 of Set 8 | Azogues\n",
      "Processing Record 13 of Set 8 | Buenos Aires\n",
      "Processing Record 14 of Set 8 | Kyren\n",
      "Processing Record 15 of Set 8 | Malanje\n",
      "Processing Record 16 of Set 8 | Ampanihy\n",
      "Processing Record 17 of Set 8 | Nong Khae\n",
      "Processing Record 18 of Set 8 | Chekhov\n",
      "Processing Record 19 of Set 8 | Koutsouras\n",
      "Processing Record 20 of Set 8 | Cabo San Lucas\n",
      "Processing Record 21 of Set 8 | Kidal\n",
      "Processing Record 22 of Set 8 | Ewing\n",
      "Processing Record 23 of Set 8 | Ebebiyin\n",
      "Processing Record 24 of Set 8 | Aksu\n",
      "Processing Record 25 of Set 8 | Baganga\n",
      "Processing Record 26 of Set 8 | Aranos\n",
      "Processing Record 27 of Set 8 | Souillac\n",
      "Processing Record 28 of Set 8 | Sampit\n",
      "Processing Record 29 of Set 8 | Arrondissement de Vierzon\n",
      "Processing Record 30 of Set 8 | Yeppoon\n",
      "Processing Record 31 of Set 8 | Puerto Carreño\n",
      "Processing Record 32 of Set 8 | Homer\n",
      "Processing Record 33 of Set 8 | North Bend\n",
      "Processing Record 34 of Set 8 | ‘Āhuimanu\n",
      "No data...\n",
      "Processing Record 35 of Set 8 | Margate\n",
      "Processing Record 36 of Set 8 | Namatanai\n",
      "Processing Record 37 of Set 8 | Zavodoukovsk\n",
      "Processing Record 38 of Set 8 | La Ronge\n"
     ]
    },
    {
     "name": "stdout",
     "output_type": "stream",
     "text": [
      "Processing Record 39 of Set 8 | Bajil\n",
      "Processing Record 40 of Set 8 | Halifax\n",
      "Processing Record 41 of Set 8 | Sioux Lookout\n",
      "Processing Record 42 of Set 8 | Mount Gambier\n",
      "Processing Record 43 of Set 8 | Limbang\n",
      "Processing Record 44 of Set 8 | Manaure\n",
      "Processing Record 45 of Set 8 | Waynesville\n",
      "Processing Record 46 of Set 8 | Ambatofinandrahana\n",
      "Processing Record 47 of Set 8 | Saldanha\n",
      "Processing Record 48 of Set 8 | Olafsvik\n",
      "Processing Record 49 of Set 8 | Marquette\n",
      "Processing Record 50 of Set 8 | Flin Flon\n",
      "Processing Record 1 of Set 9 | Amarante do Maranhão\n",
      "Processing Record 2 of Set 9 | Estelle\n",
      "Processing Record 3 of Set 9 | Yatou\n",
      "Processing Record 4 of Set 9 | Venkatagiri\n",
      "Processing Record 5 of Set 9 | Berdigestyakh\n",
      "No data...\n",
      "Processing Record 6 of Set 9 | Puerto Peñasco\n",
      "Processing Record 7 of Set 9 | Tuzha\n",
      "Processing Record 8 of Set 9 | Dzaoudzi\n",
      "Processing Record 9 of Set 9 | Banyo\n",
      "Processing Record 10 of Set 9 | Lake Shasta\n",
      "Processing Record 11 of Set 9 | Aykhal\n",
      "Processing Record 12 of Set 9 | Buala\n",
      "Processing Record 13 of Set 9 | Micco\n",
      "Processing Record 14 of Set 9 | Larsnes\n",
      "Processing Record 15 of Set 9 | Volksrust\n",
      "No data...\n",
      "Processing Record 16 of Set 9 | Havelock\n",
      "Processing Record 17 of Set 9 | Singaraja\n",
      "Processing Record 18 of Set 9 | Gondanglegi\n",
      "Processing Record 19 of Set 9 | Sibolga\n",
      "Processing Record 20 of Set 9 | Inhambane\n",
      "Processing Record 21 of Set 9 | Sangmélima\n",
      "No data...\n",
      "Processing Record 22 of Set 9 | Rumonge\n",
      "Processing Record 23 of Set 9 | Roald\n",
      "Processing Record 24 of Set 9 | Mariehamn\n",
      "Processing Record 25 of Set 9 | Severobaykal'sk\n",
      "Processing Record 26 of Set 9 | Thinadhoo\n",
      "Processing Record 27 of Set 9 | Honiara\n",
      "Processing Record 28 of Set 9 | Kieta\n",
      "Processing Record 29 of Set 9 | Oga\n",
      "No data...\n",
      "Processing Record 30 of Set 9 | Kloulklubed\n",
      "Processing Record 31 of Set 9 | Ust-Nera\n",
      "Processing Record 32 of Set 9 | Bandundu Province\n",
      "Processing Record 33 of Set 9 | General Pico\n",
      "Processing Record 34 of Set 9 | Saint Anthony\n",
      "Processing Record 35 of Set 9 | Tabou\n",
      "Processing Record 36 of Set 9 | Nyurba\n",
      "Processing Record 37 of Set 9 | Udachny\n",
      "Processing Record 38 of Set 9 | Lázaro Cárdenas\n",
      "Processing Record 39 of Set 9 | Nouadhibou\n",
      "Processing Record 40 of Set 9 | Oksovskiy\n",
      "Processing Record 41 of Set 9 | Guarapari\n",
      "Processing Record 42 of Set 9 | Bima\n",
      "Processing Record 43 of Set 9 | Hambantota\n",
      "Processing Record 44 of Set 9 | Yārāda\n",
      "Processing Record 45 of Set 9 | Flinders\n",
      "Processing Record 46 of Set 9 | Kachīry\n",
      "Processing Record 47 of Set 9 | Les Cayes\n",
      "Processing Record 48 of Set 9 | Pong\n",
      "Processing Record 49 of Set 9 | Zhanakorgan\n",
      "Processing Record 50 of Set 9 | Kandrian\n",
      "Processing Record 1 of Set 10 | Rio Grande\n",
      "Processing Record 2 of Set 10 | Altay\n",
      "Processing Record 3 of Set 10 | Whitehorse\n",
      "Processing Record 4 of Set 10 | Masty\n",
      "Processing Record 5 of Set 10 | Paraje Nuevo\n",
      "Processing Record 6 of Set 10 | Oistins\n",
      "Processing Record 7 of Set 10 | Yola\n",
      "Processing Record 8 of Set 10 | Terney\n",
      "Processing Record 9 of Set 10 | Kapoeta\n",
      "No data...\n",
      "Processing Record 10 of Set 10 | Mayo\n",
      "Processing Record 11 of Set 10 | Campbell River\n",
      "Processing Record 12 of Set 10 | Kemijärvi\n",
      "Processing Record 13 of Set 10 | Kaeo\n",
      "Processing Record 14 of Set 10 | Lompoc\n",
      "Processing Record 15 of Set 10 | Karratha\n",
      "Processing Record 16 of Set 10 | Batemans Bay\n",
      "Processing Record 17 of Set 10 | Jiazi\n",
      "Processing Record 18 of Set 10 | Taltal\n",
      "No data...\n",
      "Processing Record 19 of Set 10 | Cap Malheureux\n",
      "Processing Record 20 of Set 10 | Leshukonskoye\n",
      "Processing Record 21 of Set 10 | Chimbote\n",
      "Processing Record 22 of Set 10 | Kruisfontein\n",
      "Processing Record 23 of Set 10 | Rokytne\n",
      "Processing Record 24 of Set 10 | Tías\n",
      "Processing Record 25 of Set 10 | Dickinson\n",
      "Processing Record 26 of Set 10 | Arlit\n",
      "Processing Record 27 of Set 10 | Mogadishu\n",
      "Processing Record 28 of Set 10 | Miraflores\n",
      "Processing Record 29 of Set 10 | Fort Myers Beach\n",
      "Processing Record 30 of Set 10 | Vitim\n",
      "Processing Record 31 of Set 10 | Margherita\n",
      "Processing Record 32 of Set 10 | Nanortalik\n",
      "Processing Record 33 of Set 10 | Vuktyl\n",
      "Processing Record 34 of Set 10 | Fortuna\n",
      "Processing Record 35 of Set 10 | Krasnovishersk\n",
      "Processing Record 36 of Set 10 | Bilma\n",
      "Processing Record 37 of Set 10 | Khasan\n",
      "Processing Record 38 of Set 10 | Taoudenni\n",
      "Processing Record 39 of Set 10 | Blagoyevo\n",
      "Processing Record 40 of Set 10 | Shelburne\n",
      "Processing Record 41 of Set 10 | Maura\n",
      "Processing Record 42 of Set 10 | Sirte\n",
      "Processing Record 43 of Set 10 | Kismayo\n",
      "Processing Record 44 of Set 10 | Tura\n",
      "Processing Record 45 of Set 10 | Bubaque\n",
      "Processing Record 46 of Set 10 | Gigante\n",
      "No data...\n",
      "Processing Record 47 of Set 10 | Nagato\n",
      "Processing Record 48 of Set 10 | Kaohsiung City\n",
      "Processing Record 49 of Set 10 | Jardim\n",
      "Processing Record 50 of Set 10 | Maceió\n",
      "Processing Record 1 of Set 11 | Obanazawa\n",
      "Processing Record 2 of Set 11 | Grand-Santi\n",
      "Processing Record 3 of Set 11 | Kovdor\n",
      "Processing Record 4 of Set 11 | Russell\n",
      "Processing Record 5 of Set 11 | Dargaville\n",
      "Processing Record 6 of Set 11 | Touros\n",
      "Processing Record 7 of Set 11 | Port Hedland\n",
      "Processing Record 8 of Set 11 | Sol'-Iletsk\n",
      "Processing Record 9 of Set 11 | Laguna\n",
      "Processing Record 10 of Set 11 | Taksimo\n",
      "Processing Record 11 of Set 11 | Rehoboth\n",
      "Processing Record 12 of Set 11 | Benguela\n",
      "Processing Record 13 of Set 11 | Ivanovskoye\n",
      "Processing Record 14 of Set 11 | Conceição do Araguaia\n",
      "Processing Record 15 of Set 11 | Muros\n",
      "Processing Record 16 of Set 11 | Quryq\n",
      "Processing Record 17 of Set 11 | Antalaha\n",
      "Processing Record 18 of Set 11 | Itacaré\n",
      "Processing Record 19 of Set 11 | Urengoy\n",
      "Processing Record 20 of Set 11 | Ishinomaki\n",
      "Processing Record 21 of Set 11 | Jos\n",
      "Processing Record 22 of Set 11 | General Roca\n",
      "Processing Record 23 of Set 11 | Yenagoa\n",
      "Processing Record 24 of Set 11 | Kamloops\n",
      "No data...\n",
      "Processing Record 25 of Set 11 | Dolores\n",
      "Processing Record 26 of Set 11 | Bahía Honda\n",
      "Processing Record 27 of Set 11 | Sovetskiy\n",
      "Processing Record 28 of Set 11 | Juba\n",
      "Processing Record 29 of Set 11 | Hammerfest\n",
      "Processing Record 30 of Set 11 | Maksatikha\n",
      "Processing Record 31 of Set 11 | Ushtobe\n",
      "Processing Record 32 of Set 11 | Matara\n",
      "Processing Record 33 of Set 11 | Shingū\n",
      "Processing Record 34 of Set 11 | Naze\n",
      "Processing Record 35 of Set 11 | Na Klang\n",
      "Processing Record 36 of Set 11 | Port Macquarie\n",
      "Processing Record 37 of Set 11 | Porto Murtinho\n",
      "Processing Record 38 of Set 11 | Semey\n",
      "Processing Record 39 of Set 11 | Lufilufi\n",
      "Processing Record 40 of Set 11 | Progreso\n",
      "Processing Record 41 of Set 11 | Kourou\n",
      "Processing Record 42 of Set 11 | Verkhnevilyuysk\n",
      "Processing Record 43 of Set 11 | Taitung City\n",
      "Processing Record 44 of Set 11 | Cairns\n",
      "Processing Record 45 of Set 11 | Abhā\n",
      "Processing Record 46 of Set 11 | Baker City\n",
      "Processing Record 47 of Set 11 | Nizhnevartovsk\n",
      "Processing Record 48 of Set 11 | Omsukchan\n",
      "Processing Record 49 of Set 11 | Ifakara\n",
      "Processing Record 50 of Set 11 | Kiryat Gat\n",
      "Processing Record 1 of Set 12 | Lichinga\n",
      "Processing Record 2 of Set 12 | Hanna\n",
      "Processing Record 3 of Set 12 | Haimen\n",
      "Processing Record 4 of Set 12 | Zamora\n",
      "Processing Record 5 of Set 12 | Westport\n",
      "Processing Record 6 of Set 12 | Roxana\n",
      "Processing Record 7 of Set 12 | Altagracia de Orituco\n",
      "Processing Record 8 of Set 12 | Barabash\n",
      "No data...\n",
      "Processing Record 9 of Set 12 | Price\n",
      "No data...\n",
      "Processing Record 10 of Set 12 | Two Rivers\n",
      "Processing Record 11 of Set 12 | Kem'\n",
      "Processing Record 12 of Set 12 | Maswa\n",
      "Processing Record 13 of Set 12 | Iracoubo\n",
      "No data...\n",
      "Processing Record 14 of Set 12 | Jódar\n",
      "Processing Record 15 of Set 12 | Balabac\n",
      "Processing Record 16 of Set 12 | Kirakira\n",
      "Processing Record 17 of Set 12 | Pemberton\n"
     ]
    }
   ],
   "source": [
    "api_key = weather_api_key\n",
    "\n",
    "url = \"http://api.openweathermap.org/data/2.5/weather?units=Imperial&APPID=\" + api_key\n",
    "\n",
    "name = []\n",
    "cloudiness = []\n",
    "country = []\n",
    "date = []\n",
    "humidity = []\n",
    "lat = []\n",
    "long = []\n",
    "max_temp = []\n",
    "wind_speed = []\n",
    "\n",
    "record_count = 1\n",
    "set_count = 1\n",
    "\n",
    "\n",
    "print(\"Beginning Call...\")\n",
    "print(\"...........................\")\n",
    "\n",
    "for city in cities:\n",
    "    try:\n",
    "        response = requests.get(f\"{url}&q={city}\").json()\n",
    "        name.append(response[\"name\"])\n",
    "        cloudiness.append(response[\"clouds\"][\"all\"])\n",
    "        country.append(response[\"sys\"][\"country\"])\n",
    "        date.append(response[\"dt\"])\n",
    "        humidity.append(response[\"main\"][\"humidity\"])\n",
    "        max_temp.append(response[\"main\"][\"temp_max\"])\n",
    "        lat.append(response[\"coord\"][\"lat\"])\n",
    "        long.append(response[\"coord\"][\"lon\"])\n",
    "        wind_speed.append(response[\"wind\"][\"speed\"])\n",
    "        record_count += 1\n",
    "        city_name = response[\"name\"]\n",
    "        if record_count > 50:\n",
    "            set_count += 1\n",
    "            record_count = 1\n",
    "        print(f\"Processing Record {record_count} of Set {set_count} | {city_name}\")\n",
    "    except:\n",
    "        print(\"No data...\")\n",
    "    continue\n",
    "        "
   ]
  },
  {
   "cell_type": "markdown",
   "metadata": {},
   "source": [
    "### Convert Raw Data to DataFrame\n",
    "* Export the city data into a .csv.\n",
    "* Display the DataFrame"
   ]
  },
  {
   "cell_type": "code",
   "execution_count": 2,
   "metadata": {},
   "outputs": [
    {
     "ename": "NameError",
     "evalue": "name 'name' is not defined",
     "output_type": "error",
     "traceback": [
      "\u001b[1;31m---------------------------------------------------------------------------\u001b[0m",
      "\u001b[1;31mNameError\u001b[0m                                 Traceback (most recent call last)",
      "\u001b[1;32m<ipython-input-2-2976fb4ffd08>\u001b[0m in \u001b[0;36m<module>\u001b[1;34m\u001b[0m\n\u001b[0;32m      2\u001b[0m \u001b[1;33m\u001b[0m\u001b[0m\n\u001b[0;32m      3\u001b[0m data = {\n\u001b[1;32m----> 4\u001b[1;33m     \u001b[1;34m\"City\"\u001b[0m\u001b[1;33m:\u001b[0m \u001b[0mname\u001b[0m\u001b[1;33m,\u001b[0m\u001b[1;33m\u001b[0m\u001b[1;33m\u001b[0m\u001b[0m\n\u001b[0m\u001b[0;32m      5\u001b[0m     \u001b[1;34m\"Cloudiness\"\u001b[0m \u001b[1;33m:\u001b[0m \u001b[0mcloudiness\u001b[0m\u001b[1;33m,\u001b[0m\u001b[1;33m\u001b[0m\u001b[1;33m\u001b[0m\u001b[0m\n\u001b[0;32m      6\u001b[0m     \u001b[1;34m\"Country\"\u001b[0m \u001b[1;33m:\u001b[0m \u001b[0mcountry\u001b[0m\u001b[1;33m,\u001b[0m\u001b[1;33m\u001b[0m\u001b[1;33m\u001b[0m\u001b[0m\n",
      "\u001b[1;31mNameError\u001b[0m: name 'name' is not defined"
     ]
    }
   ],
   "source": [
    "import csv \n",
    "\n",
    "data = {\n",
    "    \"City\": name,\n",
    "    \"Cloudiness\" : cloudiness,\n",
    "    \"Country\" : country,\n",
    "    \"Date\" : date,\n",
    "    \"Humidity\" : humidity,\n",
    "    \"Latitude\" : lat,\n",
    "    \"Longitude\" : long,\n",
    "    \"Max Temperature\" : max_temp,\n",
    "    \"Wind Speed\" : wind_speed\n",
    "}\n",
    "\n",
    "df = pd.DataFrame(data)\n",
    "\n",
    "\n",
    "df.to_csv(r'C:/Users/caitc/OneDrive/Desktop/DATA_BC/Homework/python-api-challenge/python-api-challenge/weather.csv', index=False)"
   ]
  },
  {
   "cell_type": "code",
   "execution_count": 24,
   "metadata": {},
   "outputs": [
    {
     "data": {
      "text/html": [
       "<div>\n",
       "<style scoped>\n",
       "    .dataframe tbody tr th:only-of-type {\n",
       "        vertical-align: middle;\n",
       "    }\n",
       "\n",
       "    .dataframe tbody tr th {\n",
       "        vertical-align: top;\n",
       "    }\n",
       "\n",
       "    .dataframe thead th {\n",
       "        text-align: right;\n",
       "    }\n",
       "</style>\n",
       "<table border=\"1\" class=\"dataframe\">\n",
       "  <thead>\n",
       "    <tr style=\"text-align: right;\">\n",
       "      <th></th>\n",
       "      <th>City</th>\n",
       "      <th>Cloudiness</th>\n",
       "      <th>Country</th>\n",
       "      <th>Date</th>\n",
       "      <th>Humidity</th>\n",
       "      <th>Latitude</th>\n",
       "      <th>Longitude</th>\n",
       "      <th>Max Temperature</th>\n",
       "      <th>Wind Speed</th>\n",
       "    </tr>\n",
       "  </thead>\n",
       "  <tbody>\n",
       "    <tr>\n",
       "      <th>0</th>\n",
       "      <td>Punta Arenas</td>\n",
       "      <td>75</td>\n",
       "      <td>CL</td>\n",
       "      <td>1600809771</td>\n",
       "      <td>57</td>\n",
       "      <td>-53.15</td>\n",
       "      <td>-70.92</td>\n",
       "      <td>48.20</td>\n",
       "      <td>16.11</td>\n",
       "    </tr>\n",
       "    <tr>\n",
       "      <th>1</th>\n",
       "      <td>Los Llanos de Aridane</td>\n",
       "      <td>75</td>\n",
       "      <td>ES</td>\n",
       "      <td>1600809914</td>\n",
       "      <td>83</td>\n",
       "      <td>28.66</td>\n",
       "      <td>-17.92</td>\n",
       "      <td>75.20</td>\n",
       "      <td>3.36</td>\n",
       "    </tr>\n",
       "    <tr>\n",
       "      <th>2</th>\n",
       "      <td>Lebu</td>\n",
       "      <td>43</td>\n",
       "      <td>CL</td>\n",
       "      <td>1600809774</td>\n",
       "      <td>73</td>\n",
       "      <td>-37.62</td>\n",
       "      <td>-73.65</td>\n",
       "      <td>51.94</td>\n",
       "      <td>18.43</td>\n",
       "    </tr>\n",
       "    <tr>\n",
       "      <th>3</th>\n",
       "      <td>Bluff</td>\n",
       "      <td>51</td>\n",
       "      <td>NZ</td>\n",
       "      <td>1600809805</td>\n",
       "      <td>87</td>\n",
       "      <td>-46.60</td>\n",
       "      <td>168.33</td>\n",
       "      <td>54.00</td>\n",
       "      <td>7.00</td>\n",
       "    </tr>\n",
       "    <tr>\n",
       "      <th>4</th>\n",
       "      <td>Ushuaia</td>\n",
       "      <td>75</td>\n",
       "      <td>AR</td>\n",
       "      <td>1600809772</td>\n",
       "      <td>74</td>\n",
       "      <td>-54.80</td>\n",
       "      <td>-68.30</td>\n",
       "      <td>44.60</td>\n",
       "      <td>21.92</td>\n",
       "    </tr>\n",
       "    <tr>\n",
       "      <th>...</th>\n",
       "      <td>...</td>\n",
       "      <td>...</td>\n",
       "      <td>...</td>\n",
       "      <td>...</td>\n",
       "      <td>...</td>\n",
       "      <td>...</td>\n",
       "      <td>...</td>\n",
       "      <td>...</td>\n",
       "      <td>...</td>\n",
       "    </tr>\n",
       "    <tr>\n",
       "      <th>561</th>\n",
       "      <td>Iracoubo</td>\n",
       "      <td>32</td>\n",
       "      <td>GF</td>\n",
       "      <td>1600810077</td>\n",
       "      <td>77</td>\n",
       "      <td>5.48</td>\n",
       "      <td>-53.20</td>\n",
       "      <td>81.79</td>\n",
       "      <td>15.70</td>\n",
       "    </tr>\n",
       "    <tr>\n",
       "      <th>562</th>\n",
       "      <td>Jódar</td>\n",
       "      <td>100</td>\n",
       "      <td>ES</td>\n",
       "      <td>1600810077</td>\n",
       "      <td>45</td>\n",
       "      <td>37.84</td>\n",
       "      <td>-3.35</td>\n",
       "      <td>75.99</td>\n",
       "      <td>3.04</td>\n",
       "    </tr>\n",
       "    <tr>\n",
       "      <th>563</th>\n",
       "      <td>Balabac</td>\n",
       "      <td>36</td>\n",
       "      <td>PH</td>\n",
       "      <td>1600810077</td>\n",
       "      <td>79</td>\n",
       "      <td>7.99</td>\n",
       "      <td>117.06</td>\n",
       "      <td>82.04</td>\n",
       "      <td>8.37</td>\n",
       "    </tr>\n",
       "    <tr>\n",
       "      <th>564</th>\n",
       "      <td>Kirakira</td>\n",
       "      <td>33</td>\n",
       "      <td>SB</td>\n",
       "      <td>1600810078</td>\n",
       "      <td>77</td>\n",
       "      <td>-10.45</td>\n",
       "      <td>161.92</td>\n",
       "      <td>81.43</td>\n",
       "      <td>7.23</td>\n",
       "    </tr>\n",
       "    <tr>\n",
       "      <th>565</th>\n",
       "      <td>Pemberton</td>\n",
       "      <td>75</td>\n",
       "      <td>CA</td>\n",
       "      <td>1600810078</td>\n",
       "      <td>67</td>\n",
       "      <td>50.32</td>\n",
       "      <td>-122.80</td>\n",
       "      <td>60.80</td>\n",
       "      <td>5.82</td>\n",
       "    </tr>\n",
       "  </tbody>\n",
       "</table>\n",
       "<p>566 rows × 9 columns</p>\n",
       "</div>"
      ],
      "text/plain": [
       "                      City  Cloudiness Country        Date  Humidity  \\\n",
       "0             Punta Arenas          75      CL  1600809771        57   \n",
       "1    Los Llanos de Aridane          75      ES  1600809914        83   \n",
       "2                     Lebu          43      CL  1600809774        73   \n",
       "3                    Bluff          51      NZ  1600809805        87   \n",
       "4                  Ushuaia          75      AR  1600809772        74   \n",
       "..                     ...         ...     ...         ...       ...   \n",
       "561               Iracoubo          32      GF  1600810077        77   \n",
       "562                  Jódar         100      ES  1600810077        45   \n",
       "563                Balabac          36      PH  1600810077        79   \n",
       "564               Kirakira          33      SB  1600810078        77   \n",
       "565              Pemberton          75      CA  1600810078        67   \n",
       "\n",
       "     Latitude  Longitude  Max Temperature  Wind Speed  \n",
       "0      -53.15     -70.92            48.20       16.11  \n",
       "1       28.66     -17.92            75.20        3.36  \n",
       "2      -37.62     -73.65            51.94       18.43  \n",
       "3      -46.60     168.33            54.00        7.00  \n",
       "4      -54.80     -68.30            44.60       21.92  \n",
       "..        ...        ...              ...         ...  \n",
       "561      5.48     -53.20            81.79       15.70  \n",
       "562     37.84      -3.35            75.99        3.04  \n",
       "563      7.99     117.06            82.04        8.37  \n",
       "564    -10.45     161.92            81.43        7.23  \n",
       "565     50.32    -122.80            60.80        5.82  \n",
       "\n",
       "[566 rows x 9 columns]"
      ]
     },
     "execution_count": 24,
     "metadata": {},
     "output_type": "execute_result"
    }
   ],
   "source": [
    "df = pd.read_csv('C:/Users/caitc/OneDrive/Desktop/DATA_BC/Homework/python-api-challenge/python-api-challenge/weather.csv')\n",
    "df"
   ]
  },
  {
   "cell_type": "markdown",
   "metadata": {},
   "source": [
    "## Inspect the data and remove the cities where the humidity > 100%.\n",
    "----\n",
    "Skip this step if there are no cities that have humidity > 100%. "
   ]
  },
  {
   "cell_type": "code",
   "execution_count": 25,
   "metadata": {},
   "outputs": [
    {
     "data": {
      "text/html": [
       "<div>\n",
       "<style scoped>\n",
       "    .dataframe tbody tr th:only-of-type {\n",
       "        vertical-align: middle;\n",
       "    }\n",
       "\n",
       "    .dataframe tbody tr th {\n",
       "        vertical-align: top;\n",
       "    }\n",
       "\n",
       "    .dataframe thead th {\n",
       "        text-align: right;\n",
       "    }\n",
       "</style>\n",
       "<table border=\"1\" class=\"dataframe\">\n",
       "  <thead>\n",
       "    <tr style=\"text-align: right;\">\n",
       "      <th></th>\n",
       "      <th>Cloudiness</th>\n",
       "      <th>Date</th>\n",
       "      <th>Humidity</th>\n",
       "      <th>Latitude</th>\n",
       "      <th>Longitude</th>\n",
       "      <th>Max Temperature</th>\n",
       "      <th>Wind Speed</th>\n",
       "    </tr>\n",
       "  </thead>\n",
       "  <tbody>\n",
       "    <tr>\n",
       "      <th>count</th>\n",
       "      <td>566.000000</td>\n",
       "      <td>5.660000e+02</td>\n",
       "      <td>566.000000</td>\n",
       "      <td>566.000000</td>\n",
       "      <td>566.000000</td>\n",
       "      <td>566.000000</td>\n",
       "      <td>566.000000</td>\n",
       "    </tr>\n",
       "    <tr>\n",
       "      <th>mean</th>\n",
       "      <td>48.657244</td>\n",
       "      <td>1.600810e+09</td>\n",
       "      <td>70.151943</td>\n",
       "      <td>18.608410</td>\n",
       "      <td>19.728286</td>\n",
       "      <td>65.686837</td>\n",
       "      <td>8.013763</td>\n",
       "    </tr>\n",
       "    <tr>\n",
       "      <th>std</th>\n",
       "      <td>38.593078</td>\n",
       "      <td>1.137094e+02</td>\n",
       "      <td>21.069583</td>\n",
       "      <td>33.880881</td>\n",
       "      <td>93.593607</td>\n",
       "      <td>16.006296</td>\n",
       "      <td>5.157912</td>\n",
       "    </tr>\n",
       "    <tr>\n",
       "      <th>min</th>\n",
       "      <td>0.000000</td>\n",
       "      <td>1.600810e+09</td>\n",
       "      <td>6.000000</td>\n",
       "      <td>-54.800000</td>\n",
       "      <td>-179.170000</td>\n",
       "      <td>14.230000</td>\n",
       "      <td>0.340000</td>\n",
       "    </tr>\n",
       "    <tr>\n",
       "      <th>25%</th>\n",
       "      <td>5.000000</td>\n",
       "      <td>1.600810e+09</td>\n",
       "      <td>61.250000</td>\n",
       "      <td>-8.470000</td>\n",
       "      <td>-68.457500</td>\n",
       "      <td>53.122500</td>\n",
       "      <td>3.970000</td>\n",
       "    </tr>\n",
       "    <tr>\n",
       "      <th>50%</th>\n",
       "      <td>45.000000</td>\n",
       "      <td>1.600810e+09</td>\n",
       "      <td>75.000000</td>\n",
       "      <td>20.065000</td>\n",
       "      <td>26.175000</td>\n",
       "      <td>69.010000</td>\n",
       "      <td>6.930000</td>\n",
       "    </tr>\n",
       "    <tr>\n",
       "      <th>75%</th>\n",
       "      <td>90.000000</td>\n",
       "      <td>1.600810e+09</td>\n",
       "      <td>86.000000</td>\n",
       "      <td>46.710000</td>\n",
       "      <td>102.445000</td>\n",
       "      <td>77.625000</td>\n",
       "      <td>11.180000</td>\n",
       "    </tr>\n",
       "    <tr>\n",
       "      <th>max</th>\n",
       "      <td>100.000000</td>\n",
       "      <td>1.600810e+09</td>\n",
       "      <td>100.000000</td>\n",
       "      <td>78.220000</td>\n",
       "      <td>178.420000</td>\n",
       "      <td>102.200000</td>\n",
       "      <td>29.240000</td>\n",
       "    </tr>\n",
       "  </tbody>\n",
       "</table>\n",
       "</div>"
      ],
      "text/plain": [
       "       Cloudiness          Date    Humidity    Latitude   Longitude  \\\n",
       "count  566.000000  5.660000e+02  566.000000  566.000000  566.000000   \n",
       "mean    48.657244  1.600810e+09   70.151943   18.608410   19.728286   \n",
       "std     38.593078  1.137094e+02   21.069583   33.880881   93.593607   \n",
       "min      0.000000  1.600810e+09    6.000000  -54.800000 -179.170000   \n",
       "25%      5.000000  1.600810e+09   61.250000   -8.470000  -68.457500   \n",
       "50%     45.000000  1.600810e+09   75.000000   20.065000   26.175000   \n",
       "75%     90.000000  1.600810e+09   86.000000   46.710000  102.445000   \n",
       "max    100.000000  1.600810e+09  100.000000   78.220000  178.420000   \n",
       "\n",
       "       Max Temperature  Wind Speed  \n",
       "count       566.000000  566.000000  \n",
       "mean         65.686837    8.013763  \n",
       "std          16.006296    5.157912  \n",
       "min          14.230000    0.340000  \n",
       "25%          53.122500    3.970000  \n",
       "50%          69.010000    6.930000  \n",
       "75%          77.625000   11.180000  \n",
       "max         102.200000   29.240000  "
      ]
     },
     "execution_count": 25,
     "metadata": {},
     "output_type": "execute_result"
    }
   ],
   "source": [
    "df.describe()"
   ]
  },
  {
   "cell_type": "code",
   "execution_count": 26,
   "metadata": {},
   "outputs": [],
   "source": [
    "#  Get the indices of cities that have humidity over 100%.\n",
    "#N/A"
   ]
  },
  {
   "cell_type": "code",
   "execution_count": 27,
   "metadata": {},
   "outputs": [],
   "source": [
    "# Make a new DataFrame equal to the city data to drop all humidity outliers by index.\n",
    "# Passing \"inplace=False\" will make a copy of the city_data DataFrame, which we call \"clean_city_data\".\n",
    "#N/A"
   ]
  },
  {
   "cell_type": "code",
   "execution_count": 28,
   "metadata": {},
   "outputs": [],
   "source": [
    "# Extract relevant fields from the data frame\n",
    "#N/A\n",
    "\n",
    "# Export the City_Data into a csv\n",
    "#N/A"
   ]
  },
  {
   "cell_type": "code",
   "execution_count": 29,
   "metadata": {},
   "outputs": [],
   "source": [
    "# warm_enough = not_too_cloudy.drop(not_too_cloudy[not_too_cloudy['Max Temperature'] < 80].index)\n",
    "# warm_enough"
   ]
  },
  {
   "cell_type": "code",
   "execution_count": 30,
   "metadata": {},
   "outputs": [],
   "source": [
    "# clean_city_data = df.to_csv(r'C:/Users/caitc/OneDrive/Desktop/DATA_BC/Homework/python-api-challenge/clean_city_data.csv', index=False)"
   ]
  },
  {
   "cell_type": "markdown",
   "metadata": {},
   "source": [
    "## Plotting the Data\n",
    "* Use proper labeling of the plots using plot titles (including date of analysis) and axes labels.\n",
    "* Save the plotted figures as .pngs."
   ]
  },
  {
   "cell_type": "markdown",
   "metadata": {},
   "source": [
    "## Latitude vs. Temperature Plot"
   ]
  },
  {
   "cell_type": "code",
   "execution_count": 31,
   "metadata": {
    "scrolled": true
   },
   "outputs": [
    {
     "data": {
      "image/png": "[encoded data removed]",
      "text/plain": [
       "<Figure size 432x288 with 1 Axes>"
      ]
     },
     "metadata": {
      "needs_background": "light"
     },
     "output_type": "display_data"
    }
   ],
   "source": [
    "df.plot(kind = 'scatter', x='Latitude', y='Max Temperature', color='magenta', edgecolors='blue')\n",
    "plt.title(\"City Latitude vs. Max Temperature\")\n",
    "plt.xlabel(\"Latitude\")\n",
    "plt.ylabel(\"Max Temperature (F)\")\n",
    "plt.grid(True)\n",
    "plt.savefig('C:/Users/caitc/OneDrive/Desktop/DATA_BC/Homework/python-api-challenge/python-api-challenge/WeatherPy/plots/latVtemp.png')\n",
    "plt.show()"
   ]
  },
  {
   "cell_type": "markdown",
   "metadata": {},
   "source": [
    "## Latitude vs. Humidity Plot"
   ]
  },
  {
   "cell_type": "code",
   "execution_count": 32,
   "metadata": {},
   "outputs": [
    {
     "data": {
      "image/png": "[encoded data removed]",
      "text/plain": [
       "<Figure size 432x288 with 1 Axes>"
      ]
     },
     "metadata": {
      "needs_background": "light"
     },
     "output_type": "display_data"
    }
   ],
   "source": [
    "df.plot(kind = 'scatter', x='Latitude', y='Humidity', color='magenta', edgecolors='blue')\n",
    "plt.title(\"City Latitude vs. Humidity\")\n",
    "plt.xlabel(\"Latitude\")\n",
    "plt.ylabel(\"Humidity (%)\")\n",
    "plt.grid(True)\n",
    "plt.savefig('C:/Users/caitc/OneDrive/Desktop/DATA_BC/Homework/python-api-challenge/python-api-challenge/WeatherPy/plots/latVhumidty.png')\n",
    "plt.show()"
   ]
  },
  {
   "cell_type": "markdown",
   "metadata": {},
   "source": [
    "## Latitude vs. Cloudiness Plot"
   ]
  },
  {
   "cell_type": "code",
   "execution_count": 33,
   "metadata": {},
   "outputs": [
    {
     "data": {
      "image/png": "[encoded data removed]",
      "text/plain": [
       "<Figure size 432x288 with 1 Axes>"
      ]
     },
     "metadata": {
      "needs_background": "light"
     },
     "output_type": "display_data"
    }
   ],
   "source": [
    "df.plot(kind = 'scatter', x='Latitude', y='Cloudiness', color='magenta', edgecolors='blue')\n",
    "plt.title(\"City Latitude vs. Cloudiness\")\n",
    "plt.xlabel(\"Latitude\")\n",
    "plt.ylabel(\"Cloudiness (%)\")\n",
    "plt.grid(True)\n",
    "plt.savefig('C:/Users/caitc/OneDrive/Desktop/DATA_BC/Homework/python-api-challenge/python-api-challenge/WeatherPy/plots/latVclouds.png')\n",
    "plt.show()"
   ]
  },
  {
   "cell_type": "markdown",
   "metadata": {},
   "source": [
    "## Latitude vs. Wind Speed Plot"
   ]
  },
  {
   "cell_type": "code",
   "execution_count": 34,
   "metadata": {},
   "outputs": [
    {
     "data": {
      "image/png": "[encoded data removed]",
      "text/plain": [
       "<Figure size 432x288 with 1 Axes>"
      ]
     },
     "metadata": {
      "needs_background": "light"
     },
     "output_type": "display_data"
    }
   ],
   "source": [
    "df.plot(kind = 'scatter', x='Latitude', y='Wind Speed', color='magenta', edgecolors='blue')\n",
    "plt.title(\"City Latitude vs. Wind Speed\")\n",
    "plt.xlabel(\"Latitude\")\n",
    "plt.ylabel(\"Wind Speed (mph)\")\n",
    "plt.grid(True)\n",
    "plt.savefig('C:/Users/caitc/OneDrive/Desktop/DATA_BC/Homework/python-api-challenge/python-api-challenge/WeatherPy/plots/latVwind.png')\n",
    "plt.show()"
   ]
  },
  {
   "cell_type": "markdown",
   "metadata": {},
   "source": [
    "## Linear Regression"
   ]
  },
  {
   "cell_type": "code",
   "execution_count": 35,
   "metadata": {},
   "outputs": [],
   "source": [
    "# OPTIONAL: Create a function to create Linear Regression plots\n",
    "def linear_regression(x, y, comparison, text):\n",
    "    (slope, y_intercept, r, p, std_err) = linregress(x, y)\n",
    "    fit = x * slope + y_intercept\n",
    "    line_eq = \"y = \" + str(round(slope,2)) + \"x + \" + str(round(y_intercept,2)) \n",
    "    \n",
    "    plt.scatter(x,y)\n",
    "    plt.plot(x, fit, \"r-\")\n",
    "    plt.annotate(line_eq, text, fontsize=15, color=\"red\")\n",
    "    plt.xlabel('Latitude')\n",
    "    plt.ylabel(comparison)\n",
    "    print(f\"The r-squared is:{r**2}\")\n",
    "    path = 'C:/Users/caitc/OneDrive/Desktop/DATA_BC/Homework/python-api-challenge/python-api-challenge/WeatherPy/plots/'\n",
    "    plt.savefig(path + comparison + \".png\")\n",
    "    plt.show()"
   ]
  },
  {
   "cell_type": "code",
   "execution_count": 36,
   "metadata": {},
   "outputs": [
    {
     "data": {
      "text/html": [
       "<div>\n",
       "<style scoped>\n",
       "    .dataframe tbody tr th:only-of-type {\n",
       "        vertical-align: middle;\n",
       "    }\n",
       "\n",
       "    .dataframe tbody tr th {\n",
       "        vertical-align: top;\n",
       "    }\n",
       "\n",
       "    .dataframe thead th {\n",
       "        text-align: right;\n",
       "    }\n",
       "</style>\n",
       "<table border=\"1\" class=\"dataframe\">\n",
       "  <thead>\n",
       "    <tr style=\"text-align: right;\">\n",
       "      <th></th>\n",
       "      <th>City</th>\n",
       "      <th>Cloudiness</th>\n",
       "      <th>Country</th>\n",
       "      <th>Date</th>\n",
       "      <th>Humidity</th>\n",
       "      <th>Latitude</th>\n",
       "      <th>Longitude</th>\n",
       "      <th>Max Temperature</th>\n",
       "      <th>Wind Speed</th>\n",
       "    </tr>\n",
       "  </thead>\n",
       "  <tbody>\n",
       "    <tr>\n",
       "      <th>1</th>\n",
       "      <td>Los Llanos de Aridane</td>\n",
       "      <td>75</td>\n",
       "      <td>ES</td>\n",
       "      <td>1600809914</td>\n",
       "      <td>83</td>\n",
       "      <td>28.66</td>\n",
       "      <td>-17.92</td>\n",
       "      <td>75.20</td>\n",
       "      <td>3.36</td>\n",
       "    </tr>\n",
       "    <tr>\n",
       "      <th>7</th>\n",
       "      <td>Balakovo</td>\n",
       "      <td>41</td>\n",
       "      <td>RU</td>\n",
       "      <td>1600809916</td>\n",
       "      <td>74</td>\n",
       "      <td>52.03</td>\n",
       "      <td>47.80</td>\n",
       "      <td>56.25</td>\n",
       "      <td>10.69</td>\n",
       "    </tr>\n",
       "    <tr>\n",
       "      <th>8</th>\n",
       "      <td>Teguise</td>\n",
       "      <td>20</td>\n",
       "      <td>ES</td>\n",
       "      <td>1600809916</td>\n",
       "      <td>78</td>\n",
       "      <td>29.06</td>\n",
       "      <td>-13.56</td>\n",
       "      <td>75.20</td>\n",
       "      <td>14.99</td>\n",
       "    </tr>\n",
       "    <tr>\n",
       "      <th>13</th>\n",
       "      <td>Dikson</td>\n",
       "      <td>68</td>\n",
       "      <td>RU</td>\n",
       "      <td>1600809805</td>\n",
       "      <td>88</td>\n",
       "      <td>73.51</td>\n",
       "      <td>80.55</td>\n",
       "      <td>41.05</td>\n",
       "      <td>14.65</td>\n",
       "    </tr>\n",
       "    <tr>\n",
       "      <th>15</th>\n",
       "      <td>Babynino</td>\n",
       "      <td>0</td>\n",
       "      <td>RU</td>\n",
       "      <td>1600809918</td>\n",
       "      <td>87</td>\n",
       "      <td>54.39</td>\n",
       "      <td>35.73</td>\n",
       "      <td>51.80</td>\n",
       "      <td>6.71</td>\n",
       "    </tr>\n",
       "    <tr>\n",
       "      <th>...</th>\n",
       "      <td>...</td>\n",
       "      <td>...</td>\n",
       "      <td>...</td>\n",
       "      <td>...</td>\n",
       "      <td>...</td>\n",
       "      <td>...</td>\n",
       "      <td>...</td>\n",
       "      <td>...</td>\n",
       "      <td>...</td>\n",
       "    </tr>\n",
       "    <tr>\n",
       "      <th>559</th>\n",
       "      <td>Kem'</td>\n",
       "      <td>90</td>\n",
       "      <td>RU</td>\n",
       "      <td>1600810076</td>\n",
       "      <td>61</td>\n",
       "      <td>64.96</td>\n",
       "      <td>34.58</td>\n",
       "      <td>44.15</td>\n",
       "      <td>15.84</td>\n",
       "    </tr>\n",
       "    <tr>\n",
       "      <th>561</th>\n",
       "      <td>Iracoubo</td>\n",
       "      <td>32</td>\n",
       "      <td>GF</td>\n",
       "      <td>1600810077</td>\n",
       "      <td>77</td>\n",
       "      <td>5.48</td>\n",
       "      <td>-53.20</td>\n",
       "      <td>81.79</td>\n",
       "      <td>15.70</td>\n",
       "    </tr>\n",
       "    <tr>\n",
       "      <th>562</th>\n",
       "      <td>Jódar</td>\n",
       "      <td>100</td>\n",
       "      <td>ES</td>\n",
       "      <td>1600810077</td>\n",
       "      <td>45</td>\n",
       "      <td>37.84</td>\n",
       "      <td>-3.35</td>\n",
       "      <td>75.99</td>\n",
       "      <td>3.04</td>\n",
       "    </tr>\n",
       "    <tr>\n",
       "      <th>563</th>\n",
       "      <td>Balabac</td>\n",
       "      <td>36</td>\n",
       "      <td>PH</td>\n",
       "      <td>1600810077</td>\n",
       "      <td>79</td>\n",
       "      <td>7.99</td>\n",
       "      <td>117.06</td>\n",
       "      <td>82.04</td>\n",
       "      <td>8.37</td>\n",
       "    </tr>\n",
       "    <tr>\n",
       "      <th>565</th>\n",
       "      <td>Pemberton</td>\n",
       "      <td>75</td>\n",
       "      <td>CA</td>\n",
       "      <td>1600810078</td>\n",
       "      <td>67</td>\n",
       "      <td>50.32</td>\n",
       "      <td>-122.80</td>\n",
       "      <td>60.80</td>\n",
       "      <td>5.82</td>\n",
       "    </tr>\n",
       "  </tbody>\n",
       "</table>\n",
       "<p>379 rows × 9 columns</p>\n",
       "</div>"
      ],
      "text/plain": [
       "                      City  Cloudiness Country        Date  Humidity  \\\n",
       "1    Los Llanos de Aridane          75      ES  1600809914        83   \n",
       "7                 Balakovo          41      RU  1600809916        74   \n",
       "8                  Teguise          20      ES  1600809916        78   \n",
       "13                  Dikson          68      RU  1600809805        88   \n",
       "15                Babynino           0      RU  1600809918        87   \n",
       "..                     ...         ...     ...         ...       ...   \n",
       "559                   Kem'          90      RU  1600810076        61   \n",
       "561               Iracoubo          32      GF  1600810077        77   \n",
       "562                  Jódar         100      ES  1600810077        45   \n",
       "563                Balabac          36      PH  1600810077        79   \n",
       "565              Pemberton          75      CA  1600810078        67   \n",
       "\n",
       "     Latitude  Longitude  Max Temperature  Wind Speed  \n",
       "1       28.66     -17.92            75.20        3.36  \n",
       "7       52.03      47.80            56.25       10.69  \n",
       "8       29.06     -13.56            75.20       14.99  \n",
       "13      73.51      80.55            41.05       14.65  \n",
       "15      54.39      35.73            51.80        6.71  \n",
       "..        ...        ...              ...         ...  \n",
       "559     64.96      34.58            44.15       15.84  \n",
       "561      5.48     -53.20            81.79       15.70  \n",
       "562     37.84      -3.35            75.99        3.04  \n",
       "563      7.99     117.06            82.04        8.37  \n",
       "565     50.32    -122.80            60.80        5.82  \n",
       "\n",
       "[379 rows x 9 columns]"
      ]
     },
     "execution_count": 36,
     "metadata": {},
     "output_type": "execute_result"
    }
   ],
   "source": [
    "# Create Northern and Southern Hemisphere DataFrames\n",
    "S_Hemi = df.drop(df[df['Latitude'] >= 0].index, inplace=False)\n",
    "N_Hemi = df.drop(df[df['Latitude'] < 0].index, inplace=False)\n",
    "N_Hemi"
   ]
  },
  {
   "cell_type": "markdown",
   "metadata": {},
   "source": [
    "####  Northern Hemisphere - Max Temp vs. Latitude Linear Regression"
   ]
  },
  {
   "cell_type": "code",
   "execution_count": 37,
   "metadata": {},
   "outputs": [
    {
     "name": "stdout",
     "output_type": "stream",
     "text": [
      "The r-squared is:0.7036624938563361\n"
     ]
    },
    {
     "data": {
      "image/png": "[encoded data removed]",
      "text/plain": [
       "<Figure size 432x288 with 1 Axes>"
      ]
     },
     "metadata": {
      "needs_background": "light"
     },
     "output_type": "display_data"
    }
   ],
   "source": [
    "x = N_Hemi[\"Latitude\"]\n",
    "y = N_Hemi[\"Max Temperature\"]\n",
    "linear_regression(x,y, 'Max_Temperature_N', (20,20))"
   ]
  },
  {
   "cell_type": "markdown",
   "metadata": {},
   "source": [
    "####  Southern Hemisphere - Max Temp vs. Latitude Linear Regression"
   ]
  },
  {
   "cell_type": "code",
   "execution_count": 38,
   "metadata": {},
   "outputs": [
    {
     "name": "stdout",
     "output_type": "stream",
     "text": [
      "The r-squared is:0.5665575375948483\n"
     ]
    },
    {
     "data": {
      "image/png": "[encoded data removed]",
      "text/plain": [
       "<Figure size 432x288 with 1 Axes>"
      ]
     },
     "metadata": {
      "needs_background": "light"
     },
     "output_type": "display_data"
    }
   ],
   "source": [
    "x = S_Hemi[\"Latitude\"]\n",
    "y = S_Hemi[\"Max Temperature\"]\n",
    "linear_regression(x,y, 'Max_Temperature_S', (-55,85))"
   ]
  },
  {
   "cell_type": "markdown",
   "metadata": {},
   "source": [
    "####  Northern Hemisphere - Humidity (%) vs. Latitude Linear Regression"
   ]
  },
  {
   "cell_type": "code",
   "execution_count": 39,
   "metadata": {},
   "outputs": [
    {
     "name": "stdout",
     "output_type": "stream",
     "text": [
      "The r-squared is:0.004064843080843436\n"
     ]
    },
    {
     "data": {
      "image/png": "[encoded data removed]",
      "text/plain": [
       "<Figure size 432x288 with 1 Axes>"
      ]
     },
     "metadata": {
      "needs_background": "light"
     },
     "output_type": "display_data"
    }
   ],
   "source": [
    "x = N_Hemi[\"Latitude\"]\n",
    "y = N_Hemi[\"Humidity\"]\n",
    "linear_regression(x,y, 'Humidity_N', (45,30))"
   ]
  },
  {
   "cell_type": "markdown",
   "metadata": {},
   "source": [
    "####  Southern Hemisphere - Humidity (%) vs. Latitude Linear Regression"
   ]
  },
  {
   "cell_type": "code",
   "execution_count": 40,
   "metadata": {},
   "outputs": [
    {
     "name": "stdout",
     "output_type": "stream",
     "text": [
      "The r-squared is:0.0198046049164069\n"
     ]
    },
    {
     "data": {
      "image/png": "[encoded data removed]",
      "text/plain": [
       "<Figure size 432x288 with 1 Axes>"
      ]
     },
     "metadata": {
      "needs_background": "light"
     },
     "output_type": "display_data"
    }
   ],
   "source": [
    "x = S_Hemi[\"Latitude\"]\n",
    "y = S_Hemi[\"Humidity\"]\n",
    "linear_regression(x,y, 'Humidity_S', (-53,8))"
   ]
  },
  {
   "cell_type": "markdown",
   "metadata": {},
   "source": [
    "####  Northern Hemisphere - Cloudiness (%) vs. Latitude Linear Regression"
   ]
  },
  {
   "cell_type": "code",
   "execution_count": 41,
   "metadata": {},
   "outputs": [
    {
     "name": "stdout",
     "output_type": "stream",
     "text": [
      "The r-squared is:0.0038928279851782803\n"
     ]
    },
    {
     "data": {
      "image/png": "[encoded data removed]",
      "text/plain": [
       "<Figure size 432x288 with 1 Axes>"
      ]
     },
     "metadata": {
      "needs_background": "light"
     },
     "output_type": "display_data"
    }
   ],
   "source": [
    "x = N_Hemi[\"Latitude\"]\n",
    "y = N_Hemi[\"Cloudiness\"]\n",
    "linear_regression(x,y, 'Cloudiness_N', (25,60))"
   ]
  },
  {
   "cell_type": "markdown",
   "metadata": {},
   "source": [
    "####  Southern Hemisphere - Cloudiness (%) vs. Latitude Linear Regression"
   ]
  },
  {
   "cell_type": "code",
   "execution_count": 42,
   "metadata": {},
   "outputs": [
    {
     "name": "stdout",
     "output_type": "stream",
     "text": [
      "The r-squared is:0.011785747830666994\n"
     ]
    },
    {
     "data": {
      "image/png": "[encoded data removed]",
      "text/plain": [
       "<Figure size 432x288 with 1 Axes>"
      ]
     },
     "metadata": {
      "needs_background": "light"
     },
     "output_type": "display_data"
    }
   ],
   "source": [
    "x = S_Hemi[\"Latitude\"]\n",
    "y = S_Hemi[\"Cloudiness\"]\n",
    "linear_regression(x,y, 'Cloudiness_S', (-55,57))"
   ]
  },
  {
   "cell_type": "markdown",
   "metadata": {},
   "source": [
    "####  Northern Hemisphere - Wind Speed (mph) vs. Latitude Linear Regression"
   ]
  },
  {
   "cell_type": "code",
   "execution_count": 43,
   "metadata": {},
   "outputs": [
    {
     "name": "stdout",
     "output_type": "stream",
     "text": [
      "The r-squared is:0.018651540860620052\n"
     ]
    },
    {
     "data": {
      "image/png": "[encoded data removed]",
      "text/plain": [
       "<Figure size 432x288 with 1 Axes>"
      ]
     },
     "metadata": {
      "needs_background": "light"
     },
     "output_type": "display_data"
    }
   ],
   "source": [
    "x = N_Hemi[\"Latitude\"]\n",
    "y = N_Hemi[\"Wind Speed\"]\n",
    "linear_regression(x,y, 'Wind_Speed_N', (0,25))"
   ]
  },
  {
   "cell_type": "markdown",
   "metadata": {},
   "source": [
    "####  Southern Hemisphere - Wind Speed (mph) vs. Latitude Linear Regression"
   ]
  },
  {
   "cell_type": "code",
   "execution_count": 44,
   "metadata": {},
   "outputs": [
    {
     "name": "stdout",
     "output_type": "stream",
     "text": [
      "The r-squared is:0.03913878488288768\n"
     ]
    },
    {
     "data": {
      "image/png": "[encoded data removed]",
      "text/plain": [
       "<Figure size 432x288 with 1 Axes>"
      ]
     },
     "metadata": {
      "needs_background": "light"
     },
     "output_type": "display_data"
    }
   ],
   "source": [
    "x = S_Hemi[\"Latitude\"]\n",
    "y = S_Hemi[\"Wind Speed\"]\n",
    "linear_regression(x,y, 'Wind_Speed_S', (-30,25))"
   ]
  },
  {
   "cell_type": "code",
   "execution_count": null,
   "metadata": {},
   "outputs": [],
   "source": []
  }
 ],
 "metadata": {
  "anaconda-cloud": {},
  "kernel_info": {
   "name": "python3"
  },
  "kernelspec": {
   "display_name": "Python 3.7.7 64-bit ('PythonDataViz': conda)",
   "language": "python",
   "name": "python37764bitpythondatavizconda976a4584b18943658ad6807c60f62839"
  },
  "language_info": {
   "codemirror_mode": {
    "name": "ipython",
    "version": 3
   },
   "file_extension": ".py",
   "mimetype": "text/x-python",
   "name": "python",
   "nbconvert_exporter": "python",
   "pygments_lexer": "ipython3",
   "version": "3.7.7"
  },
  "latex_envs": {
   "LaTeX_envs_menu_present": true,
   "autoclose": false,
   "autocomplete": true,
   "bibliofile": "biblio.bib",
   "cite_by": "apalike",
   "current_citInitial": 1,
   "eqLabelWithNumbers": true,
   "eqNumInitial": 1,
   "hotkeys": {
    "equation": "Ctrl-E",
    "itemize": "Ctrl-I"
   },
   "labels_anchors": false,
   "latex_user_defs": false,
   "report_style_numbering": false,
   "user_envs_cfg": false
  },
  "nteract": {
   "version": "0.12.3"
  }
 },
 "nbformat": 4,
 "nbformat_minor": 2
}
